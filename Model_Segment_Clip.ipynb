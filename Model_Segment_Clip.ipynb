{
 "cells": [
  {
   "cell_type": "code",
   "execution_count": 1,
   "metadata": {},
   "outputs": [
    {
     "name": "stderr",
     "output_type": "stream",
     "text": [
      "/Users/akhilralla/Desktop/billing-server/myenv/lib/python3.11/site-packages/tqdm/auto.py:21: TqdmWarning: IProgress not found. Please update jupyter and ipywidgets. See https://ipywidgets.readthedocs.io/en/stable/user_install.html\n",
      "  from .autonotebook import tqdm as notebook_tqdm\n"
     ]
    }
   ],
   "source": [
    "from PIL import Image\n",
    "from matplotlib import pyplot as plt\n",
    "import numpy as np\n",
    "from lang_sam import LangSAM\n",
    "import torch\n",
    "import os\n",
    "import cv2\n",
    "from transformers import CLIPImageProcessor, CLIPVisionModelWithProjection\n",
    "import pandas as pd\n",
    "import torch\n",
    "from sklearn.metrics.pairwise import cosine_similarity"
   ]
  },
  {
   "cell_type": "code",
   "execution_count": 2,
   "metadata": {},
   "outputs": [],
   "source": [
    "# Load the model and processor\n",
    "embeddingModel = CLIPVisionModelWithProjection.from_pretrained(\"openai/clip-vit-base-patch16\")\n",
    "embeddingProcessor = CLIPImageProcessor.from_pretrained(\"openai/clip-vit-base-patch16\")"
   ]
  },
  {
   "cell_type": "code",
   "execution_count": 3,
   "metadata": {},
   "outputs": [],
   "source": [
    "class ObjectDetector:\n",
    "    def __init__(self):\n",
    "        self.model = LangSAM(sam_type=\"sam2.1_hiera_tiny\", gdino_type=\"tiny\")\n",
    "    \n",
    "    def predict(self, image_pil, text_prompt):\n",
    "        results = self.model.predict([image_pil], [text_prompt])\n",
    "        return results\n",
    "    \n",
    "    def plot_results(self, image_pil, results, text_prompt):\n",
    "        \n",
    "        # Convert the mask to a numpy array\n",
    "        mask = results[0]['masks'][0]\n",
    "\n",
    "        # Plot the image\n",
    "        plt.figure(figsize=(10, 10))\n",
    "        plt.imshow(image_pil)\n",
    "\n",
    "        # Plot the bounding box\n",
    "        box = results[0]['boxes'][0]\n",
    "        plt.gca().add_patch(plt.Rectangle((box[0], box[1]), box[2] - box[0], box[3] - box[1], edgecolor='red', facecolor='none', linewidth=2))\n",
    "\n",
    "        # Plot the mask\n",
    "        plt.imshow(np.ma.masked_where(mask == 0, mask), alpha=0.5, cmap='jet')\n",
    "\n",
    "        plt.title(f\"Prediction for: {text_prompt}\")\n",
    "        plt.axis('off')\n",
    "        plt.show()\n",
    "\n",
    "    # given an image and results, hide the mask on the image by making the values zero within the mask\n",
    "    def hide_mask(self, image_pil, results):\n",
    "        mask = results[0]['masks'][0]\n",
    "        image_np = np.array(image_pil)\n",
    "        image_np[mask == 1] = 0\n",
    "        return Image.fromarray(image_np)\n",
    "\n",
    "    def crop_image(self, image_pil, results):\n",
    "        box = results[0]['boxes'][0]\n",
    "        cropped_image = image_pil.crop((box[0], box[1], box[2], box[3]))\n",
    "        return cropped_image\n",
    "    \n",
    "    def predict_and_crop_image(self, image_pil, text_prompt):\n",
    "        results = self.predict(image_pil, text_prompt)\n",
    "        cropped_image = self.crop_image(image_pil, results)\n",
    "        return cropped_image\n",
    "\n",
    "    def show_image(self, image_pil):\n",
    "        plt.imshow(image_pil)\n",
    "        plt.axis('off')\n",
    "        plt.show()\n",
    "\n",
    "    def resize(self, image_pil, long_side):\n",
    "        width, height = image_pil.size\n",
    "        if width > height:\n",
    "            new_width = long_side\n",
    "            new_height = int(long_side * height / width)\n",
    "        else:\n",
    "            new_height = long_side\n",
    "            new_width = int(long_side * width / height)\n",
    "        return image_pil.resize((new_width, new_height))\n",
    "object_detector = ObjectDetector()"
   ]
  },
  {
   "cell_type": "code",
   "execution_count": 4,
   "metadata": {},
   "outputs": [],
   "source": [
    "def extract_frames(video_path, frame_rate=2):\n",
    "    video_capture = cv2.VideoCapture(video_path)\n",
    "    total_frames = int(video_capture.get(cv2.CAP_PROP_FRAME_COUNT))\n",
    "    fps = video_capture.get(cv2.CAP_PROP_FPS)\n",
    "    interval = int(fps / frame_rate)\n",
    "    frame_number = 0\n",
    "    frames = []\n",
    "    while True:\n",
    "        success, frame = video_capture.read()\n",
    "        if not success:\n",
    "            break\n",
    "        if frame_number % interval == 0:\n",
    "            frames.append(frame)\n",
    "\n",
    "        frame_number += 1\n",
    "    video_capture.release()\n",
    "    return frames"
   ]
  },
  {
   "cell_type": "code",
   "execution_count": null,
   "metadata": {
    "vscode": {
     "languageId": "plaintext"
    }
   },
   "outputs": [],
   "source": [
    "offsetImagePath = \"./offset1.jpg\"\n",
    "offsetFeatures = []\n",
    "inputs = processor(images=Image.open(offsetImagePath), return_tensors=\"pt\", padding=True)\n",
    "with torch.no_grad():\n",
    "    offsetFeatures = model(**inputs)\n",
    "# print(offsetFeatures)\n",
    "offsetFeatures = offsetFeatures"
   ]
  },
  {
   "cell_type": "code",
   "execution_count": 5,
   "metadata": {},
   "outputs": [],
   "source": [
    "def toFilter(path, maxNumber= 1999):\n",
    "    try:\n",
    "        number = path.split('_')[0]\n",
    "        return int(number) <= maxNumber\n",
    "    except:\n",
    "        return False"
   ]
  },
  {
   "cell_type": "code",
   "execution_count": null,
   "metadata": {},
   "outputs": [],
   "source": [
    "embeddings = {}\n",
    "def load_embeddings():\n",
    "    path_to_videos = \"./sourceDataVideos/\"\n",
    "    videos = os.listdir(path_to_videos)\n",
    "    # videos = videos[:2]\n",
    "    print(videos)\n",
    "    count = 0\n",
    "    for video in videos:\n",
    "        if(not toFilter(video, 1050)):\n",
    "            continue\n",
    "        print(\"--------------------- Processing video: \", count, video)\n",
    "        count += 1\n",
    "        video_path = os.path.join(path_to_videos, video)\n",
    "        frames = extract_frames(video_path, 1)\n",
    "        print(\"Number of frames: \", len(frames))\n",
    "        id = video.split(\"_\")[0]\n",
    "        frame_number = 0\n",
    "        for frame in frames:\n",
    "            print(\"Processing frame: \", frame_number)\n",
    "            image = Image.fromarray(frame)\n",
    "            inputs = embeddingProcessor(images=object_detector.predict_and_crop_image(image, \"object, not hand, not background\"), return_tensors=\"pt\", padding=True)\n",
    "            with torch.no_grad():\n",
    "                features = embeddingModel(**inputs)\n",
    "                features.image_embeds = features.image_embeds\n",
    "            embeddings[id + \"_\" + str(frame_number)] = features\n",
    "            frame_number += 1\n",
    "load_embeddings()"
   ]
  },
  {
   "cell_type": "code",
   "execution_count": 17,
   "metadata": {},
   "outputs": [
    {
     "name": "stdout",
     "output_type": "stream",
     "text": [
      "['1022_Lux-Soap_30.mp4', '1034_Tide-Surf_45.mp4', '1009_Wheel-Soap_10.mp4', '1046_Parachute-Oil_104.mp4', '1051_CorrianderPowder-Spices_5.mp4', '1027_Rin-Surf_10.mp4', '1054_Jeera-Spices_25.mp4', '1069_SmallRava1kg-Grains_40.mp4', '1082_GajrajRice500g-Grains_28.mp4', '1048_Maggi-Noodles_5.mp4', '1017_KrackJack-Biscuit_5.mp4', '1001_Dove-Soap_35.mp4', '1018_Glucose-Biscuit_10.mp4', '1016_Oreo-Biscuit_10.mp4', '1052_SambarPowder-Spices_10.mp4', '1005_Santoor-Soap_40.mp4', '1059_TurmericPowder-Spices_5.mp4', '.DS_Store', '1007_XXX-Soap_10.mp4', '1032_Ariel-Surf_10.mp4', '1066_GroundNut1kg-Grains_140.mp4', '1062_ChickenMasala-Spices_5.mp4', '1049_MustardSeeds-Spices_5.mp4', '1076_GroundNut500g-Grains_70.mp4', '1047_Yippee-Noodles_14.mp4', '1039_Wheel-Surf_38.mp4', '1015_AllRounder-Biscuit_5.mp4', '1058_Efkay-Tea_10.mp4', '1008_Diamond-Soap_10.mp4', '1055_GodavariGhee-Milk_10.mp4', '1050_Kumkum-Temple_5.mp4', '1079_SmallRava500g-Grains_20.mp4', '1040_XXX-Surf_38.mp4', '1014_ButterDelite-Biscuit_5.mp4', '1033_SurfExcel-Surf_98.mp4', '1068_GodumaRava1kg-Grains_48.mp4', '1063_MeatMasala-Spices_5.mp4', '1026_Lux-Soap_10.mp4', '1074_ToorDal500g-Grains_65.mp4', '1024_Dettol-Soap_10.mp4', '1002_Cinthol-Soap_10.mp4', '1019_KrackJack-Biscuit_10.mp4', \"1011_Mom'sMagic-Biscuit_11.mp4\", '1045_Parachute-Oil_70.mp4', '1078_GodumaRava500g-Grains_24.mp4', '1042_Parachute-Oil_20.mp4', '1041_Wheel-Surf_76.mp4', '1073_ChanaDal1kg-Grains_78.mp4', '1065_MoondDal1kg-Grains_140.mp4', '1003_Lifeboy-Soap_30.mp4', '1006_Rin-Soap_10.mp4', '1028_SurfExcel-Surf_99.mp4', '1080_Sugar500g-Grains_24.mp4', '1029_Tide-Surf_45.mp4', '1037_Tomato-Pickle_11.mp4', '1035_Mango-Pickle_10.mp4', '1031_Wheel-Surf_10.mp4', '1064_ToorDal1kg-grains_130.mp4', '1004_Cinthol-Soap_30.mp4', '1083_ChanaDal500g-Grains_39.mp4', '1030_SurfExcel-Surf_10.mp4', '1057_RedLabel-Tea_10.mp4', '1070_Sugar1kg-Grains_48.mp4', '1023_Santoor-Soap_36.mp4', \"1012_Mom'sMagic-Biscuit_10.mp4\", '1077_IdliRava500g-Grains_22.mp4', '1036_Lime-Pickle_10.mp4', '1081_KurnoolRice500g-Grains_34.mp4', '1043_Parachute-Oil_10.mp4', '1013_ButterDelite-Biscuit_10.mp4', '1075_MoongDal500g-Grains_70.mp4', '1044_Parachute-Oil_40.mp4', '1071_KurnoolRice1kg-Grains_65.mp4', '1060_Maggi-Noodles_5.mp4', '1056_Yippee-Noodles_10.mp4', '1061_NaniGhee-Milk_10.mp4', '1072_GajrajRice1kg-Grains_56.mp4', '1010_Vim-Soap_10.mp4', '1020_AllRounder-Biscuit_30.mp4', '1025_Lux-Soap_10.mp4', '1021_Glucose-Biscuit_5.mp4', '1067_IdliRava1kg-Grains_44.mp4', '1038_RedChilli-Pickle_10.mp4', '1053_Jeera-Spices_10.mp4']\n",
      "--------------------- Processing video:  0 1022_Lux-Soap_30.mp4\n",
      "Number of frames:  6\n",
      "Processing frame:  0\n",
      "Processing frame:  1\n",
      "Processing frame:  2\n",
      "Processing frame:  3\n",
      "Processing frame:  4\n",
      "Processing frame:  5\n",
      "--------------------- Processing video:  1 1034_Tide-Surf_45.mp4\n",
      "Number of frames:  6\n",
      "Processing frame:  0\n",
      "Processing frame:  1\n",
      "Processing frame:  2\n",
      "Processing frame:  3\n",
      "Processing frame:  4\n",
      "Processing frame:  5\n",
      "--------------------- Processing video:  2 1009_Wheel-Soap_10.mp4\n",
      "Number of frames:  11\n",
      "Processing frame:  0\n",
      "Processing frame:  1\n",
      "Processing frame:  2\n",
      "Processing frame:  3\n",
      "Processing frame:  4\n",
      "Processing frame:  5\n",
      "Processing frame:  6\n",
      "Processing frame:  7\n",
      "Processing frame:  8\n",
      "Processing frame:  9\n",
      "Processing frame:  10\n",
      "--------------------- Processing video:  3 1046_Parachute-Oil_104.mp4\n",
      "Number of frames:  6\n",
      "Processing frame:  0\n",
      "Processing frame:  1\n",
      "Processing frame:  2\n",
      "Processing frame:  3\n",
      "Processing frame:  4\n",
      "Processing frame:  5\n",
      "--------------------- Processing video:  4 1027_Rin-Surf_10.mp4\n",
      "Number of frames:  9\n",
      "Processing frame:  0\n",
      "Processing frame:  1\n",
      "Processing frame:  2\n",
      "Processing frame:  3\n",
      "Processing frame:  4\n",
      "Processing frame:  5\n",
      "Processing frame:  6\n",
      "Processing frame:  7\n",
      "Processing frame:  8\n",
      "--------------------- Processing video:  5 1048_Maggi-Noodles_5.mp4\n",
      "Number of frames:  4\n",
      "Processing frame:  0\n",
      "Processing frame:  1\n",
      "Processing frame:  2\n",
      "Processing frame:  3\n",
      "--------------------- Processing video:  6 1017_KrackJack-Biscuit_5.mp4\n",
      "Number of frames:  8\n",
      "Processing frame:  0\n",
      "Processing frame:  1\n",
      "Processing frame:  2\n",
      "Processing frame:  3\n",
      "Processing frame:  4\n",
      "Processing frame:  5\n",
      "Processing frame:  6\n",
      "Processing frame:  7\n",
      "--------------------- Processing video:  7 1001_Dove-Soap_35.mp4\n",
      "Number of frames:  8\n",
      "Processing frame:  0\n",
      "Processing frame:  1\n",
      "Processing frame:  2\n",
      "Processing frame:  3\n",
      "Processing frame:  4\n",
      "Processing frame:  5\n",
      "Processing frame:  6\n",
      "Processing frame:  7\n",
      "--------------------- Processing video:  8 1018_Glucose-Biscuit_10.mp4\n",
      "Number of frames:  9\n",
      "Processing frame:  0\n",
      "Processing frame:  1\n",
      "Processing frame:  2\n",
      "Processing frame:  3\n",
      "Processing frame:  4\n",
      "Processing frame:  5\n",
      "Processing frame:  6\n",
      "Processing frame:  7\n",
      "Processing frame:  8\n",
      "--------------------- Processing video:  9 1016_Oreo-Biscuit_10.mp4\n",
      "Number of frames:  6\n",
      "Processing frame:  0\n",
      "Processing frame:  1\n",
      "Processing frame:  2\n",
      "Processing frame:  3\n",
      "Processing frame:  4\n",
      "Processing frame:  5\n",
      "--------------------- Processing video:  10 1005_Santoor-Soap_40.mp4\n",
      "Number of frames:  11\n",
      "Processing frame:  0\n",
      "Processing frame:  1\n",
      "Processing frame:  2\n",
      "Processing frame:  3\n",
      "Processing frame:  4\n",
      "Processing frame:  5\n",
      "Processing frame:  6\n",
      "Processing frame:  7\n",
      "Processing frame:  8\n",
      "Processing frame:  9\n",
      "Processing frame:  10\n",
      "--------------------- Processing video:  11 1007_XXX-Soap_10.mp4\n",
      "Number of frames:  11\n",
      "Processing frame:  0\n",
      "Processing frame:  1\n",
      "Processing frame:  2\n",
      "Processing frame:  3\n",
      "Processing frame:  4\n",
      "Processing frame:  5\n",
      "Processing frame:  6\n",
      "Processing frame:  7\n",
      "Processing frame:  8\n",
      "Processing frame:  9\n",
      "Processing frame:  10\n",
      "--------------------- Processing video:  12 1032_Ariel-Surf_10.mp4\n",
      "Number of frames:  6\n",
      "Processing frame:  0\n",
      "Processing frame:  1\n",
      "Processing frame:  2\n",
      "Processing frame:  3\n",
      "Processing frame:  4\n",
      "Processing frame:  5\n",
      "--------------------- Processing video:  13 1049_MustardSeeds-Spices_5.mp4\n",
      "Number of frames:  5\n",
      "Processing frame:  0\n",
      "Processing frame:  1\n",
      "Processing frame:  2\n",
      "Processing frame:  3\n",
      "Processing frame:  4\n",
      "--------------------- Processing video:  14 1047_Yippee-Noodles_14.mp4\n",
      "Number of frames:  4\n",
      "Processing frame:  0\n",
      "Processing frame:  1\n",
      "Processing frame:  2\n",
      "Processing frame:  3\n",
      "--------------------- Processing video:  15 1039_Wheel-Surf_38.mp4\n",
      "Number of frames:  4\n",
      "Processing frame:  0\n",
      "Processing frame:  1\n",
      "Processing frame:  2\n",
      "Processing frame:  3\n",
      "--------------------- Processing video:  16 1015_AllRounder-Biscuit_5.mp4\n",
      "Number of frames:  7\n",
      "Processing frame:  0\n",
      "Processing frame:  1\n",
      "Processing frame:  2\n",
      "Processing frame:  3\n",
      "Processing frame:  4\n",
      "Processing frame:  5\n",
      "Processing frame:  6\n",
      "--------------------- Processing video:  17 1008_Diamond-Soap_10.mp4\n",
      "Number of frames:  10\n",
      "Processing frame:  0\n",
      "Processing frame:  1\n",
      "Processing frame:  2\n",
      "Processing frame:  3\n",
      "Processing frame:  4\n",
      "Processing frame:  5\n",
      "Processing frame:  6\n",
      "Processing frame:  7\n",
      "Processing frame:  8\n",
      "Processing frame:  9\n",
      "--------------------- Processing video:  18 1050_Kumkum-Temple_5.mp4\n",
      "Number of frames:  4\n",
      "Processing frame:  0\n",
      "Processing frame:  1\n",
      "Processing frame:  2\n",
      "Processing frame:  3\n",
      "--------------------- Processing video:  19 1040_XXX-Surf_38.mp4\n",
      "Number of frames:  7\n",
      "Processing frame:  0\n",
      "Processing frame:  1\n",
      "Processing frame:  2\n",
      "Processing frame:  3\n",
      "Processing frame:  4\n",
      "Processing frame:  5\n",
      "Processing frame:  6\n",
      "--------------------- Processing video:  20 1014_ButterDelite-Biscuit_5.mp4\n",
      "Number of frames:  4\n",
      "Processing frame:  0\n",
      "Processing frame:  1\n",
      "Processing frame:  2\n",
      "Processing frame:  3\n",
      "--------------------- Processing video:  21 1033_SurfExcel-Surf_98.mp4\n",
      "Number of frames:  6\n",
      "Processing frame:  0\n",
      "Processing frame:  1\n",
      "Processing frame:  2\n",
      "Processing frame:  3\n",
      "Processing frame:  4\n",
      "Processing frame:  5\n",
      "--------------------- Processing video:  22 1026_Lux-Soap_10.mp4\n",
      "Number of frames:  6\n",
      "Processing frame:  0\n",
      "Processing frame:  1\n",
      "Processing frame:  2\n",
      "Processing frame:  3\n",
      "Processing frame:  4\n",
      "Processing frame:  5\n",
      "--------------------- Processing video:  23 1024_Dettol-Soap_10.mp4\n",
      "Number of frames:  8\n",
      "Processing frame:  0\n",
      "Processing frame:  1\n",
      "Processing frame:  2\n",
      "Processing frame:  3\n",
      "Processing frame:  4\n",
      "Processing frame:  5\n",
      "Processing frame:  6\n",
      "Processing frame:  7\n",
      "--------------------- Processing video:  24 1002_Cinthol-Soap_10.mp4\n",
      "Number of frames:  10\n",
      "Processing frame:  0\n",
      "Processing frame:  1\n",
      "Processing frame:  2\n",
      "Processing frame:  3\n",
      "Processing frame:  4\n",
      "Processing frame:  5\n",
      "Processing frame:  6\n",
      "Processing frame:  7\n",
      "Processing frame:  8\n",
      "Processing frame:  9\n",
      "--------------------- Processing video:  25 1019_KrackJack-Biscuit_10.mp4\n",
      "Number of frames:  7\n",
      "Processing frame:  0\n",
      "Processing frame:  1\n",
      "Processing frame:  2\n",
      "Processing frame:  3\n",
      "Processing frame:  4\n",
      "Processing frame:  5\n",
      "Processing frame:  6\n",
      "--------------------- Processing video:  26 1011_Mom'sMagic-Biscuit_11.mp4\n",
      "Number of frames:  7\n",
      "Processing frame:  0\n",
      "Processing frame:  1\n",
      "Processing frame:  2\n",
      "Processing frame:  3\n",
      "Processing frame:  4\n",
      "Processing frame:  5\n",
      "Processing frame:  6\n",
      "--------------------- Processing video:  27 1045_Parachute-Oil_70.mp4\n",
      "Number of frames:  7\n",
      "Processing frame:  0\n",
      "Processing frame:  1\n",
      "Processing frame:  2\n",
      "Processing frame:  3\n",
      "Processing frame:  4\n",
      "Processing frame:  5\n",
      "Processing frame:  6\n",
      "--------------------- Processing video:  28 1042_Parachute-Oil_20.mp4\n",
      "Number of frames:  9\n",
      "Processing frame:  0\n",
      "Processing frame:  1\n",
      "Processing frame:  2\n",
      "Processing frame:  3\n",
      "Processing frame:  4\n",
      "Processing frame:  5\n",
      "Processing frame:  6\n",
      "Processing frame:  7\n",
      "Processing frame:  8\n",
      "--------------------- Processing video:  29 1041_Wheel-Surf_76.mp4\n",
      "Number of frames:  4\n",
      "Processing frame:  0\n",
      "Processing frame:  1\n",
      "Processing frame:  2\n",
      "Processing frame:  3\n",
      "--------------------- Processing video:  30 1003_Lifeboy-Soap_30.mp4\n",
      "Number of frames:  10\n",
      "Processing frame:  0\n",
      "Processing frame:  1\n",
      "Processing frame:  2\n",
      "Processing frame:  3\n",
      "Processing frame:  4\n",
      "Processing frame:  5\n",
      "Processing frame:  6\n",
      "Processing frame:  7\n",
      "Processing frame:  8\n",
      "Processing frame:  9\n",
      "--------------------- Processing video:  31 1006_Rin-Soap_10.mp4\n",
      "Number of frames:  8\n",
      "Processing frame:  0\n",
      "Processing frame:  1\n",
      "Processing frame:  2\n",
      "Processing frame:  3\n",
      "Processing frame:  4\n",
      "Processing frame:  5\n",
      "Processing frame:  6\n",
      "Processing frame:  7\n",
      "--------------------- Processing video:  32 1028_SurfExcel-Surf_99.mp4\n",
      "Number of frames:  8\n",
      "Processing frame:  0\n",
      "Processing frame:  1\n",
      "Processing frame:  2\n",
      "Processing frame:  3\n",
      "Processing frame:  4\n",
      "Processing frame:  5\n",
      "Processing frame:  6\n",
      "Processing frame:  7\n",
      "--------------------- Processing video:  33 1029_Tide-Surf_45.mp4\n",
      "Number of frames:  6\n",
      "Processing frame:  0\n",
      "Processing frame:  1\n",
      "Processing frame:  2\n",
      "Processing frame:  3\n",
      "Processing frame:  4\n",
      "Processing frame:  5\n",
      "--------------------- Processing video:  34 1037_Tomato-Pickle_11.mp4\n",
      "Number of frames:  5\n",
      "Processing frame:  0\n",
      "Processing frame:  1\n",
      "Processing frame:  2\n",
      "Processing frame:  3\n",
      "Processing frame:  4\n",
      "--------------------- Processing video:  35 1035_Mango-Pickle_10.mp4\n",
      "Number of frames:  4\n",
      "Processing frame:  0\n",
      "Processing frame:  1\n",
      "Processing frame:  2\n",
      "Processing frame:  3\n",
      "--------------------- Processing video:  36 1031_Wheel-Surf_10.mp4\n",
      "Number of frames:  5\n",
      "Processing frame:  0\n",
      "Processing frame:  1\n",
      "Processing frame:  2\n",
      "Processing frame:  3\n",
      "Processing frame:  4\n",
      "--------------------- Processing video:  37 1004_Cinthol-Soap_30.mp4\n",
      "Number of frames:  8\n",
      "Processing frame:  0\n",
      "Processing frame:  1\n",
      "Processing frame:  2\n",
      "Processing frame:  3\n",
      "Processing frame:  4\n",
      "Processing frame:  5\n",
      "Processing frame:  6\n",
      "Processing frame:  7\n",
      "--------------------- Processing video:  38 1030_SurfExcel-Surf_10.mp4\n",
      "Number of frames:  3\n",
      "Processing frame:  0\n",
      "Processing frame:  1\n",
      "Processing frame:  2\n",
      "--------------------- Processing video:  39 1023_Santoor-Soap_36.mp4\n",
      "Number of frames:  6\n",
      "Processing frame:  0\n",
      "Processing frame:  1\n",
      "Processing frame:  2\n",
      "Processing frame:  3\n",
      "Processing frame:  4\n",
      "Processing frame:  5\n",
      "--------------------- Processing video:  40 1012_Mom'sMagic-Biscuit_10.mp4\n",
      "Number of frames:  6\n",
      "Processing frame:  0\n",
      "Processing frame:  1\n",
      "Processing frame:  2\n",
      "Processing frame:  3\n",
      "Processing frame:  4\n",
      "Processing frame:  5\n",
      "--------------------- Processing video:  41 1036_Lime-Pickle_10.mp4\n",
      "Number of frames:  4\n",
      "Processing frame:  0\n",
      "Processing frame:  1\n",
      "Processing frame:  2\n",
      "Processing frame:  3\n",
      "--------------------- Processing video:  42 1043_Parachute-Oil_10.mp4\n",
      "Number of frames:  8\n",
      "Processing frame:  0\n",
      "Processing frame:  1\n",
      "Processing frame:  2\n",
      "Processing frame:  3\n",
      "Processing frame:  4\n",
      "Processing frame:  5\n",
      "Processing frame:  6\n",
      "Processing frame:  7\n",
      "--------------------- Processing video:  43 1013_ButterDelite-Biscuit_10.mp4\n",
      "Number of frames:  7\n",
      "Processing frame:  0\n",
      "Processing frame:  1\n",
      "Processing frame:  2\n",
      "Processing frame:  3\n",
      "Processing frame:  4\n",
      "Processing frame:  5\n",
      "Processing frame:  6\n",
      "--------------------- Processing video:  44 1044_Parachute-Oil_40.mp4\n",
      "Number of frames:  6\n",
      "Processing frame:  0\n",
      "Processing frame:  1\n",
      "Processing frame:  2\n",
      "Processing frame:  3\n",
      "Processing frame:  4\n",
      "Processing frame:  5\n",
      "--------------------- Processing video:  45 1010_Vim-Soap_10.mp4\n",
      "Number of frames:  10\n",
      "Processing frame:  0\n",
      "Processing frame:  1\n",
      "Processing frame:  2\n",
      "Processing frame:  3\n",
      "Processing frame:  4\n",
      "Processing frame:  5\n",
      "Processing frame:  6\n",
      "Processing frame:  7\n",
      "Processing frame:  8\n",
      "Processing frame:  9\n",
      "--------------------- Processing video:  46 1020_AllRounder-Biscuit_30.mp4\n",
      "Number of frames:  9\n",
      "Processing frame:  0\n",
      "Processing frame:  1\n",
      "Processing frame:  2\n",
      "Processing frame:  3\n",
      "Processing frame:  4\n",
      "Processing frame:  5\n",
      "Processing frame:  6\n",
      "Processing frame:  7\n",
      "Processing frame:  8\n",
      "--------------------- Processing video:  47 1025_Lux-Soap_10.mp4\n",
      "Number of frames:  6\n",
      "Processing frame:  0\n",
      "Processing frame:  1\n",
      "Processing frame:  2\n",
      "Processing frame:  3\n",
      "Processing frame:  4\n",
      "Processing frame:  5\n",
      "--------------------- Processing video:  48 1021_Glucose-Biscuit_5.mp4\n",
      "Number of frames:  7\n",
      "Processing frame:  0\n",
      "Processing frame:  1\n",
      "Processing frame:  2\n",
      "Processing frame:  3\n",
      "Processing frame:  4\n",
      "Processing frame:  5\n",
      "Processing frame:  6\n",
      "--------------------- Processing video:  49 1038_RedChilli-Pickle_10.mp4\n",
      "Number of frames:  5\n",
      "Processing frame:  0\n",
      "Processing frame:  1\n",
      "Processing frame:  2\n",
      "Processing frame:  3\n",
      "Processing frame:  4\n"
     ]
    }
   ],
   "source": [
    "video_frame_map = {}\n",
    "def load_frame_map():\n",
    "    path_to_videos = \"./sourceDataVideos/\"\n",
    "    videos = os.listdir(path_to_videos)\n",
    "    # videos = videos[:2]\n",
    "    print(videos)\n",
    "    count = 0\n",
    "    for video in videos:\n",
    "        if(not toFilter(video, 1050)):\n",
    "            continue\n",
    "        print(\"--------------------- Processing video: \", count, video)\n",
    "        count += 1\n",
    "        video_path = os.path.join(path_to_videos, video)\n",
    "        frames = extract_frames(video_path, 1)\n",
    "        print(\"Number of frames: \", len(frames))\n",
    "        id = video.split(\"_\")[0]\n",
    "        frame_number = 0\n",
    "        for frame in frames:\n",
    "            print(\"Processing frame: \", frame_number)\n",
    "            # image = Image.fromarray(frame)\n",
    "            # inputs = embeddingProcessor(images=object_detector.predict_and_crop_image(image, \"object, not hand, not background\"), return_tensors=\"pt\", padding=True)\n",
    "            # with torch.no_grad():\n",
    "            #     features = embeddingModel(**inputs)\n",
    "            #     features.image_embeds = features.image_embeds\n",
    "            # embeddings[id + \"_\" + str(frame_number)] = features\n",
    "            video_frame_map[id + \"_\" + str(frame_number)] = Image.fromarray(frame)\n",
    "            frame_number += 1\n",
    "load_frame_map()"
   ]
  },
  {
   "cell_type": "code",
   "execution_count": 7,
   "metadata": {},
   "outputs": [],
   "source": [
    "products = {}\n",
    "def load_products():\n",
    "    # Read the CSV file\n",
    "    df = pd.read_csv('output.csv')\n",
    "\n",
    "    # Create the dictionary\n",
    "    for _, row in df.iterrows():\n",
    "        product_id = str(row['id'])\n",
    "        products[product_id] = {\n",
    "            'id': product_id,\n",
    "            'nickname': row['nickname'],\n",
    "            'price': row['price']\n",
    "        }\n",
    "load_products()"
   ]
  },
  {
   "cell_type": "code",
   "execution_count": null,
   "metadata": {},
   "outputs": [
    {
     "name": "stdout",
     "output_type": "stream",
     "text": [
      "['1069', '1056', '1051', '1058', '1067', '1060', '1034', '1033', '1005', '1002', '1061', '1059', '1066', '1050', '1068', '1057', '1003', '1032', '1035', '.DS_Store', '1028', '1017', '1010', '1019', '1026', '1021', '1081', '1075', '1072', '1044', '1043', '1020', '1018', '1027', '1011', '1029', '1016', '1042', '1045', '1073', '1074', '1080', '1030', '1037', '1008', '1001', '1006', '1039', '1052', '1055', '1063', '1064', '1007', '1038', '1036', '1009', '1031', '1065', '1062', '1054', '1053', '1071', '1082', '1076', '1049', '1040', '1047', '1078', '1013', '1014', '1022', '1025', '1046', '1079', '1041', '1077', '1083', '1048', '1070', '1024', '1023', '1015', '1012']\n",
      "Processing imageDir:  1069\n",
      "Processing imageDir:  1056\n",
      "Processing imageDir:  1051\n",
      "Processing imageDir:  1058\n",
      "Processing imageDir:  1067\n",
      "Processing imageDir:  1060\n",
      "Processing imageDir:  1034\n",
      "Processing imageDir:  1034\n",
      "Predicting 1 masks\n"
     ]
    },
    {
     "name": "stderr",
     "output_type": "stream",
     "text": [
      "Unused or unrecognized kwargs: padding.\n"
     ]
    },
    {
     "name": "stdout",
     "output_type": "stream",
     "text": [
      "Predicted 1 masks\n",
      "Predicting 1 masks\n"
     ]
    },
    {
     "name": "stderr",
     "output_type": "stream",
     "text": [
      "Unused or unrecognized kwargs: padding.\n"
     ]
    },
    {
     "name": "stdout",
     "output_type": "stream",
     "text": [
      "Predicted 1 masks\n",
      "Processing imageDir:  1033\n",
      "Processing imageDir:  1033\n",
      "Predicting 1 masks\n"
     ]
    },
    {
     "name": "stderr",
     "output_type": "stream",
     "text": [
      "Unused or unrecognized kwargs: padding.\n"
     ]
    },
    {
     "name": "stdout",
     "output_type": "stream",
     "text": [
      "Predicted 1 masks\n",
      "Predicting 1 masks\n"
     ]
    },
    {
     "name": "stderr",
     "output_type": "stream",
     "text": [
      "Unused or unrecognized kwargs: padding.\n"
     ]
    },
    {
     "name": "stdout",
     "output_type": "stream",
     "text": [
      "Predicted 1 masks\n",
      "Processing imageDir:  1005\n",
      "Processing imageDir:  1005\n",
      "Predicting 1 masks\n"
     ]
    },
    {
     "name": "stderr",
     "output_type": "stream",
     "text": [
      "Unused or unrecognized kwargs: padding.\n"
     ]
    },
    {
     "name": "stdout",
     "output_type": "stream",
     "text": [
      "Predicted 1 masks\n",
      "Predicting 1 masks\n"
     ]
    },
    {
     "name": "stderr",
     "output_type": "stream",
     "text": [
      "Unused or unrecognized kwargs: padding.\n"
     ]
    },
    {
     "name": "stdout",
     "output_type": "stream",
     "text": [
      "Predicted 1 masks\n",
      "Processing imageDir:  1002\n",
      "Processing imageDir:  1002\n",
      "Predicting 1 masks\n"
     ]
    },
    {
     "name": "stderr",
     "output_type": "stream",
     "text": [
      "Unused or unrecognized kwargs: padding.\n"
     ]
    },
    {
     "name": "stdout",
     "output_type": "stream",
     "text": [
      "Predicted 1 masks\n",
      "Predicting 1 masks\n"
     ]
    },
    {
     "name": "stderr",
     "output_type": "stream",
     "text": [
      "Unused or unrecognized kwargs: padding.\n"
     ]
    },
    {
     "name": "stdout",
     "output_type": "stream",
     "text": [
      "Predicted 1 masks\n",
      "Processing imageDir:  1061\n",
      "Processing imageDir:  1059\n",
      "Processing imageDir:  1066\n",
      "Processing imageDir:  1050\n",
      "Processing imageDir:  1050\n",
      "Predicting 1 masks\n"
     ]
    },
    {
     "name": "stderr",
     "output_type": "stream",
     "text": [
      "Unused or unrecognized kwargs: padding.\n"
     ]
    },
    {
     "name": "stdout",
     "output_type": "stream",
     "text": [
      "Predicted 1 masks\n",
      "Predicting 1 masks\n"
     ]
    },
    {
     "name": "stderr",
     "output_type": "stream",
     "text": [
      "Unused or unrecognized kwargs: padding.\n"
     ]
    },
    {
     "name": "stdout",
     "output_type": "stream",
     "text": [
      "Predicted 1 masks\n",
      "Processing imageDir:  1068\n",
      "Processing imageDir:  1057\n",
      "Processing imageDir:  1003\n",
      "Processing imageDir:  1003\n",
      "Predicting 1 masks\n"
     ]
    },
    {
     "name": "stderr",
     "output_type": "stream",
     "text": [
      "Unused or unrecognized kwargs: padding.\n"
     ]
    },
    {
     "name": "stdout",
     "output_type": "stream",
     "text": [
      "Predicted 1 masks\n",
      "Predicting 1 masks\n"
     ]
    },
    {
     "name": "stderr",
     "output_type": "stream",
     "text": [
      "Unused or unrecognized kwargs: padding.\n"
     ]
    },
    {
     "name": "stdout",
     "output_type": "stream",
     "text": [
      "Predicted 1 masks\n",
      "Processing imageDir:  1032\n",
      "Processing imageDir:  1032\n",
      "Predicting 1 masks\n"
     ]
    },
    {
     "name": "stderr",
     "output_type": "stream",
     "text": [
      "Unused or unrecognized kwargs: padding.\n"
     ]
    },
    {
     "name": "stdout",
     "output_type": "stream",
     "text": [
      "Predicted 1 masks\n",
      "Predicting 1 masks\n"
     ]
    },
    {
     "name": "stderr",
     "output_type": "stream",
     "text": [
      "Unused or unrecognized kwargs: padding.\n"
     ]
    },
    {
     "name": "stdout",
     "output_type": "stream",
     "text": [
      "Predicted 1 masks\n",
      "Processing imageDir:  1035\n",
      "Processing imageDir:  1035\n",
      "Predicting 1 masks\n"
     ]
    },
    {
     "name": "stderr",
     "output_type": "stream",
     "text": [
      "Unused or unrecognized kwargs: padding.\n"
     ]
    },
    {
     "name": "stdout",
     "output_type": "stream",
     "text": [
      "Predicted 1 masks\n",
      "Predicting 1 masks\n"
     ]
    },
    {
     "name": "stderr",
     "output_type": "stream",
     "text": [
      "Unused or unrecognized kwargs: padding.\n"
     ]
    },
    {
     "name": "stdout",
     "output_type": "stream",
     "text": [
      "Predicted 1 masks\n",
      "Processing imageDir:  .DS_Store\n",
      "Processing imageDir:  1028\n",
      "Processing imageDir:  1028\n",
      "Predicting 1 masks\n"
     ]
    },
    {
     "name": "stderr",
     "output_type": "stream",
     "text": [
      "Unused or unrecognized kwargs: padding.\n"
     ]
    },
    {
     "name": "stdout",
     "output_type": "stream",
     "text": [
      "Predicted 1 masks\n",
      "Predicting 1 masks\n"
     ]
    },
    {
     "name": "stderr",
     "output_type": "stream",
     "text": [
      "Unused or unrecognized kwargs: padding.\n"
     ]
    },
    {
     "name": "stdout",
     "output_type": "stream",
     "text": [
      "Predicted 1 masks\n",
      "Processing imageDir:  1017\n",
      "Processing imageDir:  1017\n",
      "Predicting 1 masks\n"
     ]
    },
    {
     "name": "stderr",
     "output_type": "stream",
     "text": [
      "Unused or unrecognized kwargs: padding.\n"
     ]
    },
    {
     "name": "stdout",
     "output_type": "stream",
     "text": [
      "Predicted 1 masks\n",
      "Predicting 1 masks\n"
     ]
    },
    {
     "name": "stderr",
     "output_type": "stream",
     "text": [
      "Unused or unrecognized kwargs: padding.\n"
     ]
    },
    {
     "name": "stdout",
     "output_type": "stream",
     "text": [
      "Predicted 1 masks\n",
      "Processing imageDir:  1010\n",
      "Processing imageDir:  1010\n",
      "Predicting 1 masks\n"
     ]
    },
    {
     "name": "stderr",
     "output_type": "stream",
     "text": [
      "Unused or unrecognized kwargs: padding.\n"
     ]
    },
    {
     "name": "stdout",
     "output_type": "stream",
     "text": [
      "Predicted 1 masks\n",
      "Predicting 1 masks\n"
     ]
    },
    {
     "name": "stderr",
     "output_type": "stream",
     "text": [
      "Unused or unrecognized kwargs: padding.\n"
     ]
    },
    {
     "name": "stdout",
     "output_type": "stream",
     "text": [
      "Predicted 1 masks\n",
      "Processing imageDir:  1019\n",
      "Processing imageDir:  1019\n",
      "Predicting 1 masks\n"
     ]
    },
    {
     "name": "stderr",
     "output_type": "stream",
     "text": [
      "Unused or unrecognized kwargs: padding.\n"
     ]
    },
    {
     "name": "stdout",
     "output_type": "stream",
     "text": [
      "Predicted 1 masks\n",
      "Predicting 1 masks\n"
     ]
    },
    {
     "name": "stderr",
     "output_type": "stream",
     "text": [
      "Unused or unrecognized kwargs: padding.\n"
     ]
    },
    {
     "name": "stdout",
     "output_type": "stream",
     "text": [
      "Predicted 1 masks\n",
      "Processing imageDir:  1026\n",
      "Processing imageDir:  1026\n",
      "Predicting 1 masks\n"
     ]
    },
    {
     "name": "stderr",
     "output_type": "stream",
     "text": [
      "Unused or unrecognized kwargs: padding.\n"
     ]
    },
    {
     "name": "stdout",
     "output_type": "stream",
     "text": [
      "Predicted 1 masks\n",
      "Predicting 1 masks\n"
     ]
    },
    {
     "name": "stderr",
     "output_type": "stream",
     "text": [
      "Unused or unrecognized kwargs: padding.\n"
     ]
    },
    {
     "name": "stdout",
     "output_type": "stream",
     "text": [
      "Predicted 1 masks\n",
      "Processing imageDir:  1021\n",
      "Processing imageDir:  1021\n",
      "Predicting 1 masks\n"
     ]
    },
    {
     "name": "stderr",
     "output_type": "stream",
     "text": [
      "Unused or unrecognized kwargs: padding.\n"
     ]
    },
    {
     "name": "stdout",
     "output_type": "stream",
     "text": [
      "Predicted 1 masks\n",
      "Predicting 1 masks\n"
     ]
    },
    {
     "name": "stderr",
     "output_type": "stream",
     "text": [
      "Unused or unrecognized kwargs: padding.\n"
     ]
    },
    {
     "name": "stdout",
     "output_type": "stream",
     "text": [
      "Predicted 1 masks\n",
      "Processing imageDir:  1081\n",
      "Processing imageDir:  1075\n",
      "Processing imageDir:  1072\n",
      "Processing imageDir:  1044\n",
      "Processing imageDir:  1044\n",
      "Predicting 1 masks\n"
     ]
    },
    {
     "name": "stderr",
     "output_type": "stream",
     "text": [
      "Unused or unrecognized kwargs: padding.\n"
     ]
    },
    {
     "name": "stdout",
     "output_type": "stream",
     "text": [
      "Predicted 1 masks\n",
      "Predicting 1 masks\n"
     ]
    },
    {
     "name": "stderr",
     "output_type": "stream",
     "text": [
      "Unused or unrecognized kwargs: padding.\n"
     ]
    },
    {
     "name": "stdout",
     "output_type": "stream",
     "text": [
      "Predicted 1 masks\n",
      "Processing imageDir:  1043\n",
      "Processing imageDir:  1043\n",
      "Predicting 1 masks\n"
     ]
    },
    {
     "name": "stderr",
     "output_type": "stream",
     "text": [
      "Unused or unrecognized kwargs: padding.\n"
     ]
    },
    {
     "name": "stdout",
     "output_type": "stream",
     "text": [
      "Predicted 1 masks\n",
      "Predicting 1 masks\n"
     ]
    },
    {
     "name": "stderr",
     "output_type": "stream",
     "text": [
      "Unused or unrecognized kwargs: padding.\n"
     ]
    },
    {
     "name": "stdout",
     "output_type": "stream",
     "text": [
      "Predicted 1 masks\n",
      "Processing imageDir:  1020\n",
      "Processing imageDir:  1020\n",
      "Predicting 1 masks\n"
     ]
    },
    {
     "name": "stderr",
     "output_type": "stream",
     "text": [
      "Unused or unrecognized kwargs: padding.\n"
     ]
    },
    {
     "name": "stdout",
     "output_type": "stream",
     "text": [
      "Predicted 1 masks\n",
      "Predicting 1 masks\n"
     ]
    },
    {
     "name": "stderr",
     "output_type": "stream",
     "text": [
      "Unused or unrecognized kwargs: padding.\n"
     ]
    },
    {
     "name": "stdout",
     "output_type": "stream",
     "text": [
      "Predicted 1 masks\n",
      "Processing imageDir:  1018\n",
      "Processing imageDir:  1018\n",
      "Predicting 1 masks\n"
     ]
    },
    {
     "name": "stderr",
     "output_type": "stream",
     "text": [
      "Unused or unrecognized kwargs: padding.\n"
     ]
    },
    {
     "name": "stdout",
     "output_type": "stream",
     "text": [
      "Predicted 1 masks\n",
      "Predicting 1 masks\n"
     ]
    },
    {
     "name": "stderr",
     "output_type": "stream",
     "text": [
      "Unused or unrecognized kwargs: padding.\n"
     ]
    },
    {
     "name": "stdout",
     "output_type": "stream",
     "text": [
      "Predicted 1 masks\n",
      "Processing imageDir:  1027\n",
      "Processing imageDir:  1027\n",
      "Predicting 1 masks\n"
     ]
    },
    {
     "name": "stderr",
     "output_type": "stream",
     "text": [
      "Unused or unrecognized kwargs: padding.\n"
     ]
    },
    {
     "name": "stdout",
     "output_type": "stream",
     "text": [
      "Predicted 1 masks\n",
      "Predicting 1 masks\n"
     ]
    },
    {
     "name": "stderr",
     "output_type": "stream",
     "text": [
      "Unused or unrecognized kwargs: padding.\n"
     ]
    },
    {
     "name": "stdout",
     "output_type": "stream",
     "text": [
      "Predicted 1 masks\n",
      "Processing imageDir:  1011\n",
      "Processing imageDir:  1011\n",
      "Predicting 1 masks\n"
     ]
    },
    {
     "name": "stderr",
     "output_type": "stream",
     "text": [
      "Unused or unrecognized kwargs: padding.\n"
     ]
    },
    {
     "name": "stdout",
     "output_type": "stream",
     "text": [
      "Predicted 1 masks\n",
      "Predicting 1 masks\n"
     ]
    },
    {
     "name": "stderr",
     "output_type": "stream",
     "text": [
      "Unused or unrecognized kwargs: padding.\n"
     ]
    },
    {
     "name": "stdout",
     "output_type": "stream",
     "text": [
      "Predicted 1 masks\n",
      "Processing imageDir:  1029\n",
      "Processing imageDir:  1029\n",
      "Predicting 1 masks\n"
     ]
    },
    {
     "name": "stderr",
     "output_type": "stream",
     "text": [
      "Unused or unrecognized kwargs: padding.\n"
     ]
    },
    {
     "name": "stdout",
     "output_type": "stream",
     "text": [
      "Predicted 1 masks\n",
      "Predicting 1 masks\n"
     ]
    },
    {
     "name": "stderr",
     "output_type": "stream",
     "text": [
      "Unused or unrecognized kwargs: padding.\n"
     ]
    },
    {
     "name": "stdout",
     "output_type": "stream",
     "text": [
      "Predicted 1 masks\n",
      "Processing imageDir:  1016\n",
      "Processing imageDir:  1016\n",
      "Predicting 1 masks\n"
     ]
    },
    {
     "name": "stderr",
     "output_type": "stream",
     "text": [
      "Unused or unrecognized kwargs: padding.\n"
     ]
    },
    {
     "name": "stdout",
     "output_type": "stream",
     "text": [
      "Predicted 1 masks\n",
      "Predicting 1 masks\n"
     ]
    },
    {
     "name": "stderr",
     "output_type": "stream",
     "text": [
      "Unused or unrecognized kwargs: padding.\n"
     ]
    },
    {
     "name": "stdout",
     "output_type": "stream",
     "text": [
      "Predicted 1 masks\n",
      "Processing imageDir:  1042\n",
      "Processing imageDir:  1042\n",
      "Predicting 1 masks\n"
     ]
    },
    {
     "name": "stderr",
     "output_type": "stream",
     "text": [
      "Unused or unrecognized kwargs: padding.\n"
     ]
    },
    {
     "name": "stdout",
     "output_type": "stream",
     "text": [
      "Predicted 1 masks\n",
      "Predicting 1 masks\n"
     ]
    },
    {
     "name": "stderr",
     "output_type": "stream",
     "text": [
      "Unused or unrecognized kwargs: padding.\n"
     ]
    },
    {
     "name": "stdout",
     "output_type": "stream",
     "text": [
      "Predicted 1 masks\n",
      "Processing imageDir:  1045\n",
      "Processing imageDir:  1045\n",
      "Predicting 1 masks\n"
     ]
    },
    {
     "name": "stderr",
     "output_type": "stream",
     "text": [
      "Unused or unrecognized kwargs: padding.\n"
     ]
    },
    {
     "name": "stdout",
     "output_type": "stream",
     "text": [
      "Predicted 1 masks\n",
      "Predicting 1 masks\n"
     ]
    },
    {
     "name": "stderr",
     "output_type": "stream",
     "text": [
      "Unused or unrecognized kwargs: padding.\n"
     ]
    },
    {
     "name": "stdout",
     "output_type": "stream",
     "text": [
      "Predicted 1 masks\n",
      "Processing imageDir:  1073\n",
      "Processing imageDir:  1074\n",
      "Processing imageDir:  1080\n",
      "Processing imageDir:  1030\n",
      "Processing imageDir:  1030\n",
      "Predicting 1 masks\n"
     ]
    },
    {
     "name": "stderr",
     "output_type": "stream",
     "text": [
      "Unused or unrecognized kwargs: padding.\n"
     ]
    },
    {
     "name": "stdout",
     "output_type": "stream",
     "text": [
      "Predicted 1 masks\n",
      "Predicting 1 masks\n"
     ]
    },
    {
     "name": "stderr",
     "output_type": "stream",
     "text": [
      "Unused or unrecognized kwargs: padding.\n"
     ]
    },
    {
     "name": "stdout",
     "output_type": "stream",
     "text": [
      "Predicted 1 masks\n",
      "Processing imageDir:  1037\n",
      "Processing imageDir:  1037\n",
      "Predicting 1 masks\n"
     ]
    },
    {
     "name": "stderr",
     "output_type": "stream",
     "text": [
      "Unused or unrecognized kwargs: padding.\n"
     ]
    },
    {
     "name": "stdout",
     "output_type": "stream",
     "text": [
      "Predicted 1 masks\n",
      "Predicting 1 masks\n"
     ]
    },
    {
     "name": "stderr",
     "output_type": "stream",
     "text": [
      "Unused or unrecognized kwargs: padding.\n"
     ]
    },
    {
     "name": "stdout",
     "output_type": "stream",
     "text": [
      "Predicted 1 masks\n",
      "Processing imageDir:  1008\n",
      "Processing imageDir:  1008\n",
      "Predicting 1 masks\n"
     ]
    },
    {
     "name": "stderr",
     "output_type": "stream",
     "text": [
      "Unused or unrecognized kwargs: padding.\n"
     ]
    },
    {
     "name": "stdout",
     "output_type": "stream",
     "text": [
      "Predicted 1 masks\n",
      "Predicting 1 masks\n"
     ]
    },
    {
     "name": "stderr",
     "output_type": "stream",
     "text": [
      "Unused or unrecognized kwargs: padding.\n"
     ]
    },
    {
     "name": "stdout",
     "output_type": "stream",
     "text": [
      "Predicted 1 masks\n",
      "Processing imageDir:  1001\n",
      "Processing imageDir:  1001\n",
      "Predicting 1 masks\n"
     ]
    },
    {
     "name": "stderr",
     "output_type": "stream",
     "text": [
      "Unused or unrecognized kwargs: padding.\n"
     ]
    },
    {
     "name": "stdout",
     "output_type": "stream",
     "text": [
      "Predicted 1 masks\n",
      "Predicting 1 masks\n"
     ]
    },
    {
     "name": "stderr",
     "output_type": "stream",
     "text": [
      "Unused or unrecognized kwargs: padding.\n"
     ]
    },
    {
     "name": "stdout",
     "output_type": "stream",
     "text": [
      "Predicted 1 masks\n",
      "Predicting 1 masks\n"
     ]
    },
    {
     "name": "stderr",
     "output_type": "stream",
     "text": [
      "Unused or unrecognized kwargs: padding.\n"
     ]
    },
    {
     "name": "stdout",
     "output_type": "stream",
     "text": [
      "Predicted 1 masks\n",
      "Predicting 1 masks\n"
     ]
    },
    {
     "name": "stderr",
     "output_type": "stream",
     "text": [
      "Unused or unrecognized kwargs: padding.\n"
     ]
    },
    {
     "name": "stdout",
     "output_type": "stream",
     "text": [
      "Predicted 1 masks\n",
      "Processing imageDir:  1006\n",
      "Processing imageDir:  1006\n",
      "Predicting 1 masks\n"
     ]
    },
    {
     "name": "stderr",
     "output_type": "stream",
     "text": [
      "Unused or unrecognized kwargs: padding.\n"
     ]
    },
    {
     "name": "stdout",
     "output_type": "stream",
     "text": [
      "Predicted 1 masks\n",
      "Predicting 1 masks\n"
     ]
    },
    {
     "name": "stderr",
     "output_type": "stream",
     "text": [
      "Unused or unrecognized kwargs: padding.\n"
     ]
    },
    {
     "name": "stdout",
     "output_type": "stream",
     "text": [
      "Predicted 1 masks\n",
      "Processing imageDir:  1039\n",
      "Processing imageDir:  1039\n",
      "Predicting 1 masks\n"
     ]
    },
    {
     "name": "stderr",
     "output_type": "stream",
     "text": [
      "Unused or unrecognized kwargs: padding.\n"
     ]
    },
    {
     "name": "stdout",
     "output_type": "stream",
     "text": [
      "Predicted 1 masks\n",
      "Predicting 1 masks\n"
     ]
    },
    {
     "name": "stderr",
     "output_type": "stream",
     "text": [
      "Unused or unrecognized kwargs: padding.\n"
     ]
    },
    {
     "name": "stdout",
     "output_type": "stream",
     "text": [
      "Predicted 1 masks\n",
      "Processing imageDir:  1052\n",
      "Processing imageDir:  1055\n",
      "Processing imageDir:  1063\n",
      "Processing imageDir:  1064\n",
      "Processing imageDir:  1007\n",
      "Processing imageDir:  1007\n",
      "Predicting 1 masks\n"
     ]
    },
    {
     "name": "stderr",
     "output_type": "stream",
     "text": [
      "Unused or unrecognized kwargs: padding.\n"
     ]
    },
    {
     "name": "stdout",
     "output_type": "stream",
     "text": [
      "Predicted 1 masks\n",
      "Predicting 1 masks\n"
     ]
    },
    {
     "name": "stderr",
     "output_type": "stream",
     "text": [
      "Unused or unrecognized kwargs: padding.\n"
     ]
    },
    {
     "name": "stdout",
     "output_type": "stream",
     "text": [
      "Predicted 1 masks\n",
      "Processing imageDir:  1038\n",
      "Processing imageDir:  1038\n",
      "Predicting 1 masks\n"
     ]
    },
    {
     "name": "stderr",
     "output_type": "stream",
     "text": [
      "Unused or unrecognized kwargs: padding.\n"
     ]
    },
    {
     "name": "stdout",
     "output_type": "stream",
     "text": [
      "Predicted 1 masks\n",
      "Predicting 1 masks\n"
     ]
    },
    {
     "name": "stderr",
     "output_type": "stream",
     "text": [
      "Unused or unrecognized kwargs: padding.\n"
     ]
    },
    {
     "name": "stdout",
     "output_type": "stream",
     "text": [
      "Predicted 1 masks\n",
      "Processing imageDir:  1036\n",
      "Processing imageDir:  1036\n",
      "Predicting 1 masks\n"
     ]
    },
    {
     "name": "stderr",
     "output_type": "stream",
     "text": [
      "Unused or unrecognized kwargs: padding.\n"
     ]
    },
    {
     "name": "stdout",
     "output_type": "stream",
     "text": [
      "Predicted 1 masks\n",
      "Predicting 1 masks\n"
     ]
    },
    {
     "name": "stderr",
     "output_type": "stream",
     "text": [
      "Unused or unrecognized kwargs: padding.\n"
     ]
    },
    {
     "name": "stdout",
     "output_type": "stream",
     "text": [
      "Predicted 1 masks\n",
      "Processing imageDir:  1009\n",
      "Processing imageDir:  1009\n",
      "Predicting 1 masks\n"
     ]
    },
    {
     "name": "stderr",
     "output_type": "stream",
     "text": [
      "Unused or unrecognized kwargs: padding.\n"
     ]
    },
    {
     "name": "stdout",
     "output_type": "stream",
     "text": [
      "Predicted 1 masks\n",
      "Predicting 1 masks\n"
     ]
    },
    {
     "name": "stderr",
     "output_type": "stream",
     "text": [
      "Unused or unrecognized kwargs: padding.\n"
     ]
    },
    {
     "name": "stdout",
     "output_type": "stream",
     "text": [
      "Predicted 1 masks\n",
      "Processing imageDir:  1031\n",
      "Processing imageDir:  1031\n",
      "Predicting 1 masks\n"
     ]
    },
    {
     "name": "stderr",
     "output_type": "stream",
     "text": [
      "Unused or unrecognized kwargs: padding.\n"
     ]
    },
    {
     "name": "stdout",
     "output_type": "stream",
     "text": [
      "Predicted 1 masks\n",
      "Predicting 1 masks\n"
     ]
    },
    {
     "name": "stderr",
     "output_type": "stream",
     "text": [
      "Unused or unrecognized kwargs: padding.\n"
     ]
    },
    {
     "name": "stdout",
     "output_type": "stream",
     "text": [
      "Predicted 1 masks\n",
      "Processing imageDir:  1065\n",
      "Processing imageDir:  1062\n",
      "Processing imageDir:  1054\n",
      "Processing imageDir:  1053\n",
      "Processing imageDir:  1071\n",
      "Processing imageDir:  1082\n",
      "Processing imageDir:  1076\n",
      "Processing imageDir:  1049\n",
      "Processing imageDir:  1049\n",
      "Predicting 1 masks\n"
     ]
    },
    {
     "name": "stderr",
     "output_type": "stream",
     "text": [
      "Unused or unrecognized kwargs: padding.\n"
     ]
    },
    {
     "name": "stdout",
     "output_type": "stream",
     "text": [
      "Predicted 1 masks\n",
      "Predicting 1 masks\n"
     ]
    },
    {
     "name": "stderr",
     "output_type": "stream",
     "text": [
      "Unused or unrecognized kwargs: padding.\n"
     ]
    },
    {
     "name": "stdout",
     "output_type": "stream",
     "text": [
      "Predicted 1 masks\n",
      "Processing imageDir:  1040\n",
      "Processing imageDir:  1040\n",
      "Predicting 1 masks\n"
     ]
    },
    {
     "name": "stderr",
     "output_type": "stream",
     "text": [
      "Unused or unrecognized kwargs: padding.\n"
     ]
    },
    {
     "name": "stdout",
     "output_type": "stream",
     "text": [
      "Predicted 1 masks\n",
      "Predicting 1 masks\n"
     ]
    },
    {
     "name": "stderr",
     "output_type": "stream",
     "text": [
      "Unused or unrecognized kwargs: padding.\n"
     ]
    },
    {
     "name": "stdout",
     "output_type": "stream",
     "text": [
      "Predicted 1 masks\n",
      "Processing imageDir:  1047\n",
      "Processing imageDir:  1047\n"
     ]
    }
   ],
   "source": [
    "images = {}\n",
    "image_map = {}\n",
    "image_cropped_map = {}\n",
    "def load_images():\n",
    "    path_to_images = \"./sourceDataImages/\"\n",
    "    imageDirs = os.listdir(path_to_images)\n",
    "    print(imageDirs)\n",
    "    imageDirCount = 0\n",
    "    for imageDir in imageDirs:\n",
    "        print(\"Processing imageDir: \", imageDirCount)\n",
    "        try:\n",
    "            if(not toFilter(imageDir, 1050)):\n",
    "                continue\n",
    "            imagePaths = os.listdir(os.path.join(path_to_images, imageDir))\n",
    "            count = 0\n",
    "            print(\"Processing imageDir: \", imageDir)\n",
    "            for imagePath in imagePaths:\n",
    "                image = Image.open(os.path.join(path_to_images, imageDir, imagePath))\n",
    "                cropped_image = object_detector.predict_and_crop_image(image, \"object, not hand, not background\")\n",
    "                inputs = embeddingProcessor(images=cropped_image, return_tensors=\"pt\", padding=True)\n",
    "                with torch.no_grad():\n",
    "                    features = embeddingModel(**inputs)\n",
    "                    features.image_embeds = features.image_embeds\n",
    "                images[imageDir + \"_\" + str(count) ] = features\n",
    "                image_map[imageDir + \"_\" + str(count) ] = image\n",
    "                image_cropped_map[imageDir + \"_\" + str(count) ] = cropped_image\n",
    "                count += 1\n",
    "        except:\n",
    "            print(\"Error processing imageDir: \", imageDir)\n",
    "        imageDirCount += 1\n",
    "        \n",
    "load_images()"
   ]
  },
  {
   "cell_type": "code",
   "execution_count": null,
   "metadata": {},
   "outputs": [],
   "source": [
    "def searchProduct(imageFeatures):\n",
    "    # Process the input image\n",
    "    query_embedding = imageFeatures.image_embeds.detach().cpu().numpy()\n",
    "\n",
    "\n",
    "    # Calculate cosine similarities\n",
    "    similarities = []\n",
    "    for id, embedding in embeddings.items():\n",
    "        embedding = embedding.image_embeds.detach().cpu().numpy()\n",
    "        similarity = cosine_similarity(query_embedding, embedding)\n",
    "        similarities.append((id, similarity))\n",
    "\n",
    "    top_five = sorted(similarities, key=lambda item: item[1], reverse=True)[:5]\n",
    "    # filtered_results = [(id, sim) for id, sim in top_five if sim > 0.8]\n",
    "    # Get the product details for the top five items\n",
    "    filtered_products = []\n",
    "    for closest_id, maxSimilarity in top_five:\n",
    "        # closest_id = closest_id.split(\"_\")[0]\n",
    "        product_details = products[closest_id.split(\"_\")[0]]\n",
    "        filtered_products.append((product_details, closest_id, maxSimilarity))\n",
    "\n",
    "    return filtered_products"
   ]
  },
  {
   "cell_type": "code",
   "execution_count": 24,
   "metadata": {},
   "outputs": [
    {
     "name": "stdout",
     "output_type": "stream",
     "text": [
      "Match:  0 Total:  0\n"
     ]
    }
   ],
   "source": [
    "match = 0\n",
    "for id, feature in images.items():\n",
    "    product_id = id.split(\"_\")[0]\n",
    "    query_product = products[product_id]\n",
    "    results = searchProduct(feature)\n",
    "    print(\"Query: \", query_product, results)\n",
    "    \n",
    "    if query_product['id'] == results[0][0]['id']:\n",
    "    # or query_product['id'] == results[1][0]['id'] or query_product['id'] == results[2][0]['id'] or query_product['id'] == results[3][0]['id'] or query_product['id'] == results[4][0]['id']:\n",
    "        match += 1\n",
    "    \n",
    "    print(query_product['nickname'], \"-------\", results[0][0]['nickname'])\n",
    "print(\"Match: \", match, \"Total: \", len(images))"
   ]
  },
  {
   "cell_type": "code",
   "execution_count": 23,
   "metadata": {},
   "outputs": [
    {
     "name": "stdout",
     "output_type": "stream",
     "text": [
      "Match:  0 Total:  0\n"
     ]
    }
   ],
   "source": [
    "\n",
    "match = 0\n",
    "for id, feature in images.items():\n",
    "    product_id = id.split(\"_\")[0]\n",
    "    query_product = products[product_id]\n",
    "    results = searchProduct(feature)\n",
    "    print(\"Query: \", query_product, results)\n",
    "    \n",
    "    if product_id == results[0][0]['id']:\n",
    "        match += 1\n",
    "        \n",
    "        # Plot images in a 2x1 matrix\n",
    "        fig, axes = plt.subplots(2, 1, figsize=(10, 10))\n",
    "        \n",
    "        # Plot the query image\n",
    "        query_image = image_map[id]\n",
    "        axes[0].imshow(query_image)\n",
    "        axes[0].set_title(f\"Query: {query_product['nickname']}\")\n",
    "        axes[0].axis('off')\n",
    "        \n",
    "        # Plot the matched video frame\n",
    "        matched_id = results[0][1]\n",
    "        matched_frame = video_frame_map[matched_id]\n",
    "        axes[1].imshow(matched_frame)\n",
    "        axes[1].set_title(f\"Matched: {results[0][0]['nickname']}\")\n",
    "        axes[1].axis('off')\n",
    "        \n",
    "        plt.show()\n",
    "    \n",
    "    print(query_product['nickname'], \"-------\", results[0][0]['nickname'])\n",
    "print(\"Match: \", match, \"Total: \", len(images))"
   ]
  },
  {
   "cell_type": "code",
   "execution_count": null,
   "metadata": {
    "vscode": {
     "languageId": "plaintext"
    }
   },
   "outputs": [],
   "source": []
  }
 ],
 "metadata": {
  "kernelspec": {
   "display_name": "myenv",
   "language": "python",
   "name": "python3"
  },
  "language_info": {
   "codemirror_mode": {
    "name": "ipython",
    "version": 3
   },
   "file_extension": ".py",
   "mimetype": "text/x-python",
   "name": "python",
   "nbconvert_exporter": "python",
   "pygments_lexer": "ipython3",
   "version": "3.11.11"
  }
 },
 "nbformat": 4,
 "nbformat_minor": 2
}
